{
 "cells": [
  {
   "cell_type": "code",
   "execution_count": 1,
   "id": "070cbbdd",
   "metadata": {},
   "outputs": [
    {
     "data": {
      "text/plain": [
       "True"
      ]
     },
     "execution_count": 1,
     "metadata": {},
     "output_type": "execute_result"
    }
   ],
   "source": [
    "import librosa\n",
    "import numpy as np\n",
    "import os\n",
    "import pandas as pd\n",
    "import pickle\n",
    "import torch\n",
    "from transformers import Wav2Vec2Processor, Wav2Vec2Model\n",
    "\n",
    "torch.cuda.is_available()"
   ]
  },
  {
   "cell_type": "code",
   "execution_count": 2,
   "id": "3b0aab0c",
   "metadata": {},
   "outputs": [],
   "source": [
    "emotion_categories = ['NEU', 'HAP', 'SAD', 'ANG', 'FEA', 'DIS']"
   ]
  },
  {
   "cell_type": "code",
   "execution_count": 3,
   "id": "2ddc6dab",
   "metadata": {},
   "outputs": [],
   "source": [
    "data_dir = \"../data/CREMA-D/\"\n",
    "\n",
    "audio_labels = []\n",
    "audio_arrays = []\n",
    "file_names = []\n",
    "\n",
    "for file in os.listdir(data_dir):\n",
    "    for emotion in emotion_categories:\n",
    "        if emotion in file:\n",
    "            audio_labels.append(emotion)\n",
    "            audio, sr = librosa.load(os.path.join(data_dir, file), sr=16000)\n",
    "            audio_arrays.append(audio)\n",
    "            file_names.append(file)"
   ]
  },
  {
   "cell_type": "code",
   "execution_count": 4,
   "id": "78595631",
   "metadata": {},
   "outputs": [],
   "source": [
    "df = pd.DataFrame()\n",
    "df[\"file_name\"] = file_names\n",
    "df[\"audio_array\"] = audio_arrays\n",
    "df[\"label\"] = audio_labels"
   ]
  },
  {
   "cell_type": "code",
   "execution_count": 5,
   "id": "1bc6ac9f",
   "metadata": {},
   "outputs": [
    {
     "data": {
      "text/html": [
       "<div>\n",
       "<style scoped>\n",
       "    .dataframe tbody tr th:only-of-type {\n",
       "        vertical-align: middle;\n",
       "    }\n",
       "\n",
       "    .dataframe tbody tr th {\n",
       "        vertical-align: top;\n",
       "    }\n",
       "\n",
       "    .dataframe thead th {\n",
       "        text-align: right;\n",
       "    }\n",
       "</style>\n",
       "<table border=\"1\" class=\"dataframe\">\n",
       "  <thead>\n",
       "    <tr style=\"text-align: right;\">\n",
       "      <th></th>\n",
       "      <th>file_name</th>\n",
       "      <th>audio_array</th>\n",
       "      <th>label</th>\n",
       "    </tr>\n",
       "  </thead>\n",
       "  <tbody>\n",
       "    <tr>\n",
       "      <th>0</th>\n",
       "      <td>1001_DFA_ANG_XX.wav</td>\n",
       "      <td>[0.0, 0.0, 0.0, 0.0, 0.0, 0.0, 0.0, 0.0, 0.0, ...</td>\n",
       "      <td>ANG</td>\n",
       "    </tr>\n",
       "    <tr>\n",
       "      <th>1</th>\n",
       "      <td>1001_DFA_DIS_XX.wav</td>\n",
       "      <td>[0.00091552734, 0.0013122559, 0.0015869141, 0....</td>\n",
       "      <td>DIS</td>\n",
       "    </tr>\n",
       "    <tr>\n",
       "      <th>2</th>\n",
       "      <td>1001_DFA_FEA_XX.wav</td>\n",
       "      <td>[0.008026123, 0.008453369, 0.008361816, 0.0074...</td>\n",
       "      <td>FEA</td>\n",
       "    </tr>\n",
       "    <tr>\n",
       "      <th>3</th>\n",
       "      <td>1001_DFA_HAP_XX.wav</td>\n",
       "      <td>[-0.004333496, -0.0032653809, -0.0030212402, -...</td>\n",
       "      <td>HAP</td>\n",
       "    </tr>\n",
       "    <tr>\n",
       "      <th>4</th>\n",
       "      <td>1001_DFA_NEU_XX.wav</td>\n",
       "      <td>[0.0024108887, 0.001373291, 0.0013122559, 0.00...</td>\n",
       "      <td>NEU</td>\n",
       "    </tr>\n",
       "  </tbody>\n",
       "</table>\n",
       "</div>"
      ],
      "text/plain": [
       "             file_name                                        audio_array  \\\n",
       "0  1001_DFA_ANG_XX.wav  [0.0, 0.0, 0.0, 0.0, 0.0, 0.0, 0.0, 0.0, 0.0, ...   \n",
       "1  1001_DFA_DIS_XX.wav  [0.00091552734, 0.0013122559, 0.0015869141, 0....   \n",
       "2  1001_DFA_FEA_XX.wav  [0.008026123, 0.008453369, 0.008361816, 0.0074...   \n",
       "3  1001_DFA_HAP_XX.wav  [-0.004333496, -0.0032653809, -0.0030212402, -...   \n",
       "4  1001_DFA_NEU_XX.wav  [0.0024108887, 0.001373291, 0.0013122559, 0.00...   \n",
       "\n",
       "  label  \n",
       "0   ANG  \n",
       "1   DIS  \n",
       "2   FEA  \n",
       "3   HAP  \n",
       "4   NEU  "
      ]
     },
     "execution_count": 5,
     "metadata": {},
     "output_type": "execute_result"
    }
   ],
   "source": [
    "df.head()"
   ]
  },
  {
   "cell_type": "code",
   "execution_count": 6,
   "id": "b8c76ea1",
   "metadata": {},
   "outputs": [
    {
     "name": "stderr",
     "output_type": "stream",
     "text": [
      "Some weights of the model checkpoint at facebook/wav2vec2-base-960h were not used when initializing Wav2Vec2Model: ['lm_head.bias', 'lm_head.weight']\n",
      "- This IS expected if you are initializing Wav2Vec2Model from the checkpoint of a model trained on another task or with another architecture (e.g. initializing a BertForSequenceClassification model from a BertForPreTraining model).\n",
      "- This IS NOT expected if you are initializing Wav2Vec2Model from the checkpoint of a model that you expect to be exactly identical (initializing a BertForSequenceClassification model from a BertForSequenceClassification model).\n",
      "Some weights of Wav2Vec2Model were not initialized from the model checkpoint at facebook/wav2vec2-base-960h and are newly initialized: ['wav2vec2.masked_spec_embed']\n",
      "You should probably TRAIN this model on a down-stream task to be able to use it for predictions and inference.\n"
     ]
    }
   ],
   "source": [
    "processor = Wav2Vec2Processor.from_pretrained(\"facebook/wav2vec2-base-960h\")\n",
    "model = Wav2Vec2Model.from_pretrained(\"facebook/wav2vec2-base-960h\")\n",
    "\n",
    "def extract_embeddings(audio_samples, batch):\n",
    "    \n",
    "    print(batch)\n",
    "    embeddings_list = []\n",
    "    \n",
    "    for audio_array in audio_samples:\n",
    "        # Converting the audio array into a PyTorch tensor\n",
    "        input_values = processor(audio_array, return_tensors=\"pt\").input_values\n",
    "\n",
    "        # Obtaining the sequence of hidden states at the output of the last layer of the model\n",
    "        hidden_states = model(input_values).last_hidden_state\n",
    "\n",
    "        # Applying a pooling method to extract vector embeddings from the output of the final hidden layer \n",
    "        embeddings = torch.mean(hidden_states, dim=1)\n",
    "        embeddings_list.append(embeddings)\n",
    "        \n",
    "    return embeddings_list"
   ]
  },
  {
   "cell_type": "code",
   "execution_count": null,
   "id": "baccde9d",
   "metadata": {},
   "outputs": [],
   "source": [
    "# embeddings_array = []\n",
    "\n",
    "batch_size = 128\n",
    "batch_number = 1\n",
    "for i in range(0, len(audio_arrays), batch_size):\n",
    "    \n",
    "    embeddings_list = extract_embeddings(audio_arrays[i : i+batch_size], batch_number)\n",
    "    batch_number += 1"
   ]
  },
  {
   "cell_type": "code",
   "execution_count": null,
   "id": "217dfb8c",
   "metadata": {},
   "outputs": [],
   "source": []
  }
 ],
 "metadata": {
  "kernelspec": {
   "display_name": "Python 3",
   "language": "python",
   "name": "python3"
  },
  "language_info": {
   "codemirror_mode": {
    "name": "ipython",
    "version": 3
   },
   "file_extension": ".py",
   "mimetype": "text/x-python",
   "name": "python",
   "nbconvert_exporter": "python",
   "pygments_lexer": "ipython3",
   "version": "3.8.8"
  }
 },
 "nbformat": 4,
 "nbformat_minor": 5
}
