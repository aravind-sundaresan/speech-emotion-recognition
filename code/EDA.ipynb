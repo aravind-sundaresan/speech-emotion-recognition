{
 "cells": [
  {
   "cell_type": "code",
   "execution_count": 1,
   "id": "ebfa1612",
   "metadata": {},
   "outputs": [],
   "source": [
    "import tensorflow as tf\n",
    "import tensorflow_datasets as tfds"
   ]
  },
  {
   "cell_type": "code",
   "execution_count": null,
   "id": "e8444d42",
   "metadata": {
    "scrolled": true
   },
   "outputs": [],
   "source": [
    "dataset = tfds.load(\"crema_d\")"
   ]
  },
  {
   "cell_type": "code",
   "execution_count": 7,
   "id": "4aad6204",
   "metadata": {},
   "outputs": [
    {
     "data": {
      "text/plain": [
       "5144"
      ]
     },
     "execution_count": 7,
     "metadata": {},
     "output_type": "execute_result"
    }
   ],
   "source": [
    "len(dataset[\"train\"])"
   ]
  },
  {
   "cell_type": "code",
   "execution_count": 8,
   "id": "2ac7f5e5",
   "metadata": {},
   "outputs": [
    {
     "data": {
      "text/plain": [
       "738"
      ]
     },
     "execution_count": 8,
     "metadata": {},
     "output_type": "execute_result"
    }
   ],
   "source": [
    "len(dataset[\"validation\"])"
   ]
  },
  {
   "cell_type": "code",
   "execution_count": 9,
   "id": "156a9b30",
   "metadata": {},
   "outputs": [
    {
     "data": {
      "text/plain": [
       "1556"
      ]
     },
     "execution_count": 9,
     "metadata": {},
     "output_type": "execute_result"
    }
   ],
   "source": [
    "len(dataset[\"test\"])"
   ]
  },
  {
   "cell_type": "code",
   "execution_count": 20,
   "id": "cf85a0d8",
   "metadata": {},
   "outputs": [
    {
     "name": "stdout",
     "output_type": "stream",
     "text": [
      "{'audio': <tf.Tensor: shape=(40574,), dtype=int64, numpy=array([ -90,  -97, -111, ...,    0,    0,    0], dtype=int64)>, 'label': <tf.Tensor: shape=(), dtype=int64, numpy=3>, 'speaker_id': <tf.Tensor: shape=(), dtype=string, numpy=b'1056'>}\n",
      "{'audio': <tf.Tensor: shape=(34701,), dtype=int64, numpy=array([-212, -221, -231, ...,    0,    0,   -1], dtype=int64)>, 'label': <tf.Tensor: shape=(), dtype=int64, numpy=1>, 'speaker_id': <tf.Tensor: shape=(), dtype=string, numpy=b'1028'>}\n",
      "{'audio': <tf.Tensor: shape=(59793,), dtype=int64, numpy=array([382, 363, 379, ...,   0,   0,   0], dtype=int64)>, 'label': <tf.Tensor: shape=(), dtype=int64, numpy=2>, 'speaker_id': <tf.Tensor: shape=(), dtype=string, numpy=b'1007'>}\n"
     ]
    }
   ],
   "source": [
    "for sample in dataset[\"train\"].take(3):\n",
    "    print(sample)"
   ]
  },
  {
   "cell_type": "code",
   "execution_count": null,
   "id": "c3899c21",
   "metadata": {},
   "outputs": [],
   "source": []
  }
 ],
 "metadata": {
  "kernelspec": {
   "display_name": "Python 3",
   "language": "python",
   "name": "python3"
  },
  "language_info": {
   "codemirror_mode": {
    "name": "ipython",
    "version": 3
   },
   "file_extension": ".py",
   "mimetype": "text/x-python",
   "name": "python",
   "nbconvert_exporter": "python",
   "pygments_lexer": "ipython3",
   "version": "3.8.8"
  }
 },
 "nbformat": 4,
 "nbformat_minor": 5
}
