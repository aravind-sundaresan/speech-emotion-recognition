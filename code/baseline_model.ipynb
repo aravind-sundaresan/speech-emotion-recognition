{
 "cells": [
  {
   "cell_type": "code",
   "execution_count": 12,
   "id": "4c8f478a",
   "metadata": {},
   "outputs": [],
   "source": [
    "import numpy as np\n",
    "import os\n",
    "import pandas as pd\n",
    "import pickle\n",
    "from sklearn.ensemble import RandomForestClassifier\n",
    "from sklearn.metrics import classification_report\n",
    "from sklearn.model_selection import train_test_split\n",
    "from sklearn.preprocessing import LabelEncoder"
   ]
  },
  {
   "cell_type": "code",
   "execution_count": 2,
   "id": "34fc05a3",
   "metadata": {},
   "outputs": [],
   "source": [
    "files = []\n",
    "for file in os.listdir(\"../data/embeddings\"):\n",
    "    files.append(os.path.join(\"../data/embeddings\", file))\n",
    "files.sort(key=os.path.getmtime)"
   ]
  },
  {
   "cell_type": "code",
   "execution_count": 3,
   "id": "e25562da",
   "metadata": {},
   "outputs": [
    {
     "data": {
      "text/plain": [
       "(7442, 1, 768)"
      ]
     },
     "execution_count": 3,
     "metadata": {},
     "output_type": "execute_result"
    }
   ],
   "source": [
    "audio_embeddings = []\n",
    "for file in files:\n",
    "    with open(file, \"rb\") as fp:\n",
    "        audio_embeddings.extend(pickle.load(fp))\n",
    "        \n",
    "audio_embeddings = np.array([embedding.detach().numpy() for embedding in audio_embeddings])\n",
    "audio_embeddings.shape"
   ]
  },
  {
   "cell_type": "code",
   "execution_count": 4,
   "id": "2b8db6fe",
   "metadata": {},
   "outputs": [],
   "source": [
    "audio_embeddings = audio_embeddings.reshape((7442, 768))"
   ]
  },
  {
   "cell_type": "code",
   "execution_count": 5,
   "id": "0141ead0",
   "metadata": {},
   "outputs": [],
   "source": [
    "emotion_categories = ['NEU', 'HAP', 'SAD', 'ANG', 'FEA', 'DIS']\n",
    "\n",
    "data_dir = \"../data/CREMA-D/\"\n",
    "audio_labels = []\n",
    "\n",
    "for file in os.listdir(data_dir):\n",
    "    for emotion in emotion_categories:\n",
    "        if emotion in file:\n",
    "            audio_labels.append(emotion)\n",
    "            \n",
    "label_encoder = LabelEncoder()\n",
    "label_encoder.fit(emotion_categories)\n",
    "labels = label_encoder.transform(audio_labels)"
   ]
  },
  {
   "cell_type": "code",
   "execution_count": 6,
   "id": "ab42d73c",
   "metadata": {},
   "outputs": [],
   "source": [
    "X_train, X_val, y_train, y_val = train_test_split(audio_embeddings, labels, test_size=0.30, random_state=42)\n",
    "X_val, X_test, y_val, y_test = train_test_split(X_val, y_val, test_size=0.33, random_state=42)"
   ]
  },
  {
   "cell_type": "code",
   "execution_count": 7,
   "id": "12d1750d",
   "metadata": {},
   "outputs": [
    {
     "data": {
      "text/plain": [
       "RandomForestClassifier()"
      ]
     },
     "execution_count": 7,
     "metadata": {},
     "output_type": "execute_result"
    }
   ],
   "source": [
    "clf = RandomForestClassifier()\n",
    "clf.fit(X_train, y_train)"
   ]
  },
  {
   "cell_type": "code",
   "execution_count": 10,
   "id": "43893dd4",
   "metadata": {},
   "outputs": [],
   "source": [
    "y_pred = clf.predict(X_val)"
   ]
  },
  {
   "cell_type": "code",
   "execution_count": 14,
   "id": "92ecde58",
   "metadata": {},
   "outputs": [
    {
     "name": "stdout",
     "output_type": "stream",
     "text": [
      "              precision    recall  f1-score   support\n",
      "\n",
      "           0       0.45      0.63      0.53       237\n",
      "           1       0.41      0.35      0.38       272\n",
      "           2       0.34      0.32      0.33       253\n",
      "           3       0.34      0.34      0.34       239\n",
      "           4       0.48      0.38      0.43       244\n",
      "           5       0.35      0.36      0.36       251\n",
      "\n",
      "    accuracy                           0.40      1496\n",
      "   macro avg       0.40      0.40      0.39      1496\n",
      "weighted avg       0.40      0.40      0.39      1496\n",
      "\n"
     ]
    }
   ],
   "source": [
    "print(classification_report(y_val, y_pred))"
   ]
  },
  {
   "cell_type": "code",
   "execution_count": 22,
   "id": "47980937",
   "metadata": {},
   "outputs": [],
   "source": [
    "y_pred = clf.predict(X_train)"
   ]
  },
  {
   "cell_type": "code",
   "execution_count": 23,
   "id": "6fc47066",
   "metadata": {},
   "outputs": [
    {
     "name": "stdout",
     "output_type": "stream",
     "text": [
      "              precision    recall  f1-score   support\n",
      "\n",
      "           0       1.00      1.00      1.00       912\n",
      "           1       1.00      1.00      1.00       885\n",
      "           2       1.00      1.00      1.00       900\n",
      "           3       1.00      1.00      1.00       893\n",
      "           4       1.00      1.00      1.00       734\n",
      "           5       1.00      1.00      1.00       885\n",
      "\n",
      "    accuracy                           1.00      5209\n",
      "   macro avg       1.00      1.00      1.00      5209\n",
      "weighted avg       1.00      1.00      1.00      5209\n",
      "\n"
     ]
    }
   ],
   "source": [
    "print(classification_report(y_train, y_pred))"
   ]
  },
  {
   "cell_type": "code",
   "execution_count": null,
   "id": "1fc59342",
   "metadata": {},
   "outputs": [],
   "source": []
  }
 ],
 "metadata": {
  "kernelspec": {
   "display_name": "Python 3",
   "language": "python",
   "name": "python3"
  },
  "language_info": {
   "codemirror_mode": {
    "name": "ipython",
    "version": 3
   },
   "file_extension": ".py",
   "mimetype": "text/x-python",
   "name": "python",
   "nbconvert_exporter": "python",
   "pygments_lexer": "ipython3",
   "version": "3.8.8"
  }
 },
 "nbformat": 4,
 "nbformat_minor": 5
}
