{
 "cells": [
  {
   "cell_type": "code",
   "execution_count": 7,
   "id": "0a147246",
   "metadata": {},
   "outputs": [],
   "source": [
    "import numpy as np\n",
    "import os\n",
    "import pandas as pd\n",
    "import pickle\n",
    "from sklearn.model_selection import train_test_split"
   ]
  },
  {
   "cell_type": "code",
   "execution_count": 4,
   "id": "29d863ed",
   "metadata": {},
   "outputs": [],
   "source": [
    "files = []\n",
    "for file in os.listdir(\"../data/embeddings\"):\n",
    "    files.append(os.path.join(\"../data/embeddings\", file))\n",
    "files.sort(key=os.path.getmtime)"
   ]
  },
  {
   "cell_type": "code",
   "execution_count": 8,
   "id": "710c1d3c",
   "metadata": {},
   "outputs": [
    {
     "data": {
      "text/plain": [
       "(7442, 1, 768)"
      ]
     },
     "execution_count": 8,
     "metadata": {},
     "output_type": "execute_result"
    }
   ],
   "source": [
    "audio_embeddings = []\n",
    "for file in files:\n",
    "    with open(file, \"rb\") as fp:\n",
    "        audio_embeddings.extend(pickle.load(fp))\n",
    "        \n",
    "audio_embeddings = np.array([embedding.detach().numpy() for embedding in audio_embeddings])\n",
    "audio_embeddings.shape"
   ]
  },
  {
   "cell_type": "code",
   "execution_count": 10,
   "id": "867dc349",
   "metadata": {},
   "outputs": [],
   "source": [
    "emotion_categories = ['NEU', 'HAP', 'SAD', 'ANG', 'FEA', 'DIS']\n",
    "\n",
    "data_dir = \"../data/CREMA-D/\"\n",
    "audio_labels = []\n",
    "\n",
    "for file in os.listdir(data_dir):\n",
    "    for emotion in emotion_categories:\n",
    "        if emotion in file:\n",
    "            audio_labels.append(emotion)"
   ]
  },
  {
   "cell_type": "code",
   "execution_count": null,
   "id": "34727f65",
   "metadata": {},
   "outputs": [],
   "source": []
  }
 ],
 "metadata": {
  "kernelspec": {
   "display_name": "Python 3",
   "language": "python",
   "name": "python3"
  },
  "language_info": {
   "codemirror_mode": {
    "name": "ipython",
    "version": 3
   },
   "file_extension": ".py",
   "mimetype": "text/x-python",
   "name": "python",
   "nbconvert_exporter": "python",
   "pygments_lexer": "ipython3",
   "version": "3.8.8"
  }
 },
 "nbformat": 4,
 "nbformat_minor": 5
}
